{
 "cells": [
  {
   "cell_type": "markdown",
   "id": "969676c2daad7c7e",
   "metadata": {
    "collapsed": false
   },
   "source": [
    "# Analyse des sentiments \n"
   ]
  },
  {
   "cell_type": "code",
   "execution_count": 1,
   "id": "710459fe8960c8f9",
   "metadata": {
    "ExecuteTime": {
     "end_time": "2024-03-19T10:33:50.167686600Z",
     "start_time": "2024-03-19T10:33:35.109303300Z"
    },
    "collapsed": false
   },
   "outputs": [],
   "source": [
    "import pandas as pd\n",
    "df = pd.read_csv('./data/data_JV_2020_2023_tokenised.csv')"
   ]
  },
  {
   "cell_type": "code",
   "execution_count": 2,
   "id": "129b68cfd7a44748",
   "metadata": {
    "ExecuteTime": {
     "end_time": "2024-03-19T10:33:50.300117900Z",
     "start_time": "2024-03-19T10:33:50.175093Z"
    },
    "collapsed": false
   },
   "outputs": [
    {
     "data": {
      "text/html": [
       "<div>\n",
       "<style scoped>\n",
       "    .dataframe tbody tr th:only-of-type {\n",
       "        vertical-align: middle;\n",
       "    }\n",
       "\n",
       "    .dataframe tbody tr th {\n",
       "        vertical-align: top;\n",
       "    }\n",
       "\n",
       "    .dataframe thead th {\n",
       "        text-align: right;\n",
       "    }\n",
       "</style>\n",
       "<table border=\"1\" class=\"dataframe\">\n",
       "  <thead>\n",
       "    <tr style=\"text-align: right;\">\n",
       "      <th></th>\n",
       "      <th>Unnamed: 0</th>\n",
       "      <th>rating</th>\n",
       "      <th>title_x</th>\n",
       "      <th>text</th>\n",
       "      <th>parent_asin</th>\n",
       "      <th>title_y</th>\n",
       "      <th>main_category</th>\n",
       "      <th>text_tokenized</th>\n",
       "      <th>store</th>\n",
       "      <th>details</th>\n",
       "      <th>timestamp</th>\n",
       "    </tr>\n",
       "  </thead>\n",
       "  <tbody>\n",
       "    <tr>\n",
       "      <th>0</th>\n",
       "      <td>0</td>\n",
       "      <td>4.0</td>\n",
       "      <td>It’s pretty sexual. Not my fav</td>\n",
       "      <td>I’m playing on ps5 and it’s interesting.  It’s...</td>\n",
       "      <td>B07DK1H3H5</td>\n",
       "      <td>Cyberpunk 2077 - PC [Game Download Code in Box]</td>\n",
       "      <td>Video Games</td>\n",
       "      <td>['i', '’', 'm', 'playing', 'on', 'ps', '##5', ...</td>\n",
       "      <td>WARNER BROS</td>\n",
       "      <td>{'Release date': 'December 10, 2020', 'Best Se...</td>\n",
       "      <td>2020-12-17 07:33:24.795</td>\n",
       "    </tr>\n",
       "    <tr>\n",
       "      <th>1</th>\n",
       "      <td>1</td>\n",
       "      <td>5.0</td>\n",
       "      <td>Good. A bit slow</td>\n",
       "      <td>Nostalgic fun.  A bit slow.  I hope they don’t...</td>\n",
       "      <td>B07SRWRH5D</td>\n",
       "      <td>Final Fantasy VII: Remake - PlayStation 4</td>\n",
       "      <td>Video Games</td>\n",
       "      <td>['nos', '##tal', '##gic', 'fun', '.', 'a', 'bi...</td>\n",
       "      <td>Square Enix</td>\n",
       "      <td>{'Release date': 'April 10, 2020', 'Best Selle...</td>\n",
       "      <td>2020-04-16 17:31:54.941</td>\n",
       "    </tr>\n",
       "    <tr>\n",
       "      <th>2</th>\n",
       "      <td>2</td>\n",
       "      <td>5.0</td>\n",
       "      <td>Will use again</td>\n",
       "      <td>Instant delivery!</td>\n",
       "      <td>B004RMK57U</td>\n",
       "      <td>Playstation Plus: 3 Month Membership [Digital ...</td>\n",
       "      <td>Video Games</td>\n",
       "      <td>['instant', 'delivery', '!']</td>\n",
       "      <td>PlayStation</td>\n",
       "      <td>{'Release date': 'March 22, 2011', 'Pricing': ...</td>\n",
       "      <td>2020-10-17 14:28:29.361</td>\n",
       "    </tr>\n",
       "    <tr>\n",
       "      <th>3</th>\n",
       "      <td>4</td>\n",
       "      <td>5.0</td>\n",
       "      <td>Price bumps it up from 4 stars</td>\n",
       "      <td>*it fits TWO wired Retro-bit 6 button controll...</td>\n",
       "      <td>B08L6782X9</td>\n",
       "      <td>Aenllosi Hard Carrying Case Compatible with Se...</td>\n",
       "      <td>Video Games</td>\n",
       "      <td>['*', 'it', 'fits', 'two', 'wired', 'retro', '...</td>\n",
       "      <td>Aenllosi</td>\n",
       "      <td>{'Pricing': 'The strikethrough price is the Li...</td>\n",
       "      <td>2021-05-19 20:24:30.253</td>\n",
       "    </tr>\n",
       "    <tr>\n",
       "      <th>4</th>\n",
       "      <td>5</td>\n",
       "      <td>1.0</td>\n",
       "      <td>It's an Auto-renew scam</td>\n",
       "      <td>Sony and Amazon are collaborating in an Auto-r...</td>\n",
       "      <td>B017V6YVDC</td>\n",
       "      <td>PlayStation Plus: 1 Month Membership [Digital ...</td>\n",
       "      <td>Video Games</td>\n",
       "      <td>['sony', 'and', 'amazon', 'are', 'collaboratin...</td>\n",
       "      <td>PlayStation</td>\n",
       "      <td>{'Release date': 'November 11, 2015', 'Pricing...</td>\n",
       "      <td>2020-12-12 01:54:34.794</td>\n",
       "    </tr>\n",
       "  </tbody>\n",
       "</table>\n",
       "</div>"
      ],
      "text/plain": [
       "   Unnamed: 0  rating                         title_x  \\\n",
       "0           0     4.0  It’s pretty sexual. Not my fav   \n",
       "1           1     5.0                Good. A bit slow   \n",
       "2           2     5.0                  Will use again   \n",
       "3           4     5.0  Price bumps it up from 4 stars   \n",
       "4           5     1.0         It's an Auto-renew scam   \n",
       "\n",
       "                                                text parent_asin  \\\n",
       "0  I’m playing on ps5 and it’s interesting.  It’s...  B07DK1H3H5   \n",
       "1  Nostalgic fun.  A bit slow.  I hope they don’t...  B07SRWRH5D   \n",
       "2                                  Instant delivery!  B004RMK57U   \n",
       "3  *it fits TWO wired Retro-bit 6 button controll...  B08L6782X9   \n",
       "4  Sony and Amazon are collaborating in an Auto-r...  B017V6YVDC   \n",
       "\n",
       "                                             title_y main_category  \\\n",
       "0    Cyberpunk 2077 - PC [Game Download Code in Box]   Video Games   \n",
       "1          Final Fantasy VII: Remake - PlayStation 4   Video Games   \n",
       "2  Playstation Plus: 3 Month Membership [Digital ...   Video Games   \n",
       "3  Aenllosi Hard Carrying Case Compatible with Se...   Video Games   \n",
       "4  PlayStation Plus: 1 Month Membership [Digital ...   Video Games   \n",
       "\n",
       "                                      text_tokenized        store  \\\n",
       "0  ['i', '’', 'm', 'playing', 'on', 'ps', '##5', ...  WARNER BROS   \n",
       "1  ['nos', '##tal', '##gic', 'fun', '.', 'a', 'bi...  Square Enix   \n",
       "2                       ['instant', 'delivery', '!']  PlayStation   \n",
       "3  ['*', 'it', 'fits', 'two', 'wired', 'retro', '...     Aenllosi   \n",
       "4  ['sony', 'and', 'amazon', 'are', 'collaboratin...  PlayStation   \n",
       "\n",
       "                                             details                timestamp  \n",
       "0  {'Release date': 'December 10, 2020', 'Best Se...  2020-12-17 07:33:24.795  \n",
       "1  {'Release date': 'April 10, 2020', 'Best Selle...  2020-04-16 17:31:54.941  \n",
       "2  {'Release date': 'March 22, 2011', 'Pricing': ...  2020-10-17 14:28:29.361  \n",
       "3  {'Pricing': 'The strikethrough price is the Li...  2021-05-19 20:24:30.253  \n",
       "4  {'Release date': 'November 11, 2015', 'Pricing...  2020-12-12 01:54:34.794  "
      ]
     },
     "execution_count": 2,
     "metadata": {},
     "output_type": "execute_result"
    }
   ],
   "source": [
    "df.head()"
   ]
  },
  {
   "cell_type": "code",
   "execution_count": null,
   "id": "d9a0f88e72081e1",
   "metadata": {
    "ExecuteTime": {
     "end_time": "2024-03-19T10:33:51.296655100Z",
     "start_time": "2024-03-19T10:33:50.206360100Z"
    },
    "collapsed": false
   },
   "outputs": [
    {
     "name": "stdout",
     "output_type": "stream",
     "text": [
      "Nombre d'observations contenant 'final fantasy': 3664\n"
     ]
    }
   ],
   "source": [
    "df['title_y'] = df['title_y'].fillna('')\n",
    "jeu = 'final fantasy'\n",
    "\n",
    "nombre_obs = df[df['title_y'].str.contains(jeu, case=False)].shape[0]\n",
    "print(f\"Nombre d'observations contenant '{jeu}':\", nombre_obs)\n",
    "\n"
   ]
  },
  {
   "cell_type": "code",
   "execution_count": 4,
   "id": "2c71746e794f7897",
   "metadata": {
    "ExecuteTime": {
     "end_time": "2024-03-19T10:34:05.780580500Z",
     "start_time": "2024-03-19T10:33:51.019257500Z"
    },
    "collapsed": false
   },
   "outputs": [],
   "source": [
    "from transformers import BertTokenizer\n",
    "import numpy as np \n",
    "\n",
    "tokenizer = BertTokenizer.from_pretrained(\"bert-base-uncased\")\n"
   ]
  },
  {
   "cell_type": "markdown",
   "id": "980c803d7fe67863",
   "metadata": {
    "collapsed": false
   },
   "source": [
    "\n",
    "def tokenize_comments(comment):\n",
    "    if isinstance(comment, str):\n",
    "        tokens = tokenizer.tokenize(comment)\n",
    "        tokens = ['[CLS]'] + tokens + ['[SEP]']\n",
    "        token_ids = tokenizer.convert_tokens_to_ids(tokens)\n",
    "        return token_ids\n",
    "    else:\n",
    "        return np.nan\n",
    "\n",
    "df['tokenized_comments'] = df['text'].apply(lambda x: tokenize_comments(x))"
   ]
  },
  {
   "cell_type": "markdown",
   "id": "72559b58e43e1153",
   "metadata": {
    "collapsed": false
   },
   "source": [
    "# Suppression des espaces"
   ]
  },
  {
   "cell_type": "code",
   "execution_count": 5,
   "id": "47fdbff7079bf608",
   "metadata": {
    "ExecuteTime": {
     "end_time": "2024-03-19T10:35:10.545650600Z",
     "start_time": "2024-03-19T10:34:05.785149600Z"
    },
    "collapsed": false
   },
   "outputs": [],
   "source": [
    "import ast\n",
    "\n",
    "# on retire les '/' car ca rallonge le nombre de tokens\n",
    "df['text_tokenized'] = df['text_tokenized'].apply(lambda x: ast.literal_eval(x))"
   ]
  },
  {
   "cell_type": "code",
   "execution_count": 6,
   "id": "ccc621672c7ce65a",
   "metadata": {
    "ExecuteTime": {
     "end_time": "2024-03-19T10:35:14.779159500Z",
     "start_time": "2024-03-19T10:35:10.548676900Z"
    },
    "collapsed": false
   },
   "outputs": [],
   "source": [
    "df['text_tokenized'] = df['text_tokenized'].apply(lambda x : ['[CLS]'] + x + ['[SEP]'])"
   ]
  },
  {
   "cell_type": "markdown",
   "id": "ca1f476dc9392e32",
   "metadata": {
    "collapsed": false
   },
   "source": [
    "# Padding"
   ]
  },
  {
   "cell_type": "code",
   "execution_count": 7,
   "id": "62adc24faddb2744",
   "metadata": {
    "ExecuteTime": {
     "end_time": "2024-03-19T10:35:15.027226400Z",
     "start_time": "2024-03-19T10:35:14.781173600Z"
    },
    "collapsed": false
   },
   "outputs": [
    {
     "data": {
      "text/plain": [
       "(12653, 11)"
      ]
     },
     "execution_count": 7,
     "metadata": {},
     "output_type": "execute_result"
    }
   ],
   "source": [
    "df.loc[df['text_tokenized'].str.len()>300,:].shape"
   ]
  },
  {
   "cell_type": "code",
   "execution_count": 8,
   "id": "353b24547a15dc52",
   "metadata": {
    "ExecuteTime": {
     "end_time": "2024-03-19T10:35:15.715260900Z",
     "start_time": "2024-03-19T10:35:15.027226400Z"
    },
    "collapsed": false
   },
   "outputs": [],
   "source": [
    "df_ = df.loc[df['text_tokenized'].str.len()<300,:].copy() # on perd 12501 observations ce qui n'est pas enorme"
   ]
  },
  {
   "cell_type": "code",
   "execution_count": 1,
   "id": "e13bb69d832be6e5",
   "metadata": {
    "collapsed": false,
    "ExecuteTime": {
     "end_time": "2024-03-20T10:25:05.724706100Z",
     "start_time": "2024-03-20T10:25:04.878643300Z"
    }
   },
   "outputs": [
    {
     "ename": "NameError",
     "evalue": "name 'df_' is not defined",
     "output_type": "error",
     "traceback": [
      "\u001B[1;31m---------------------------------------------------------------------------\u001B[0m",
      "\u001B[1;31mNameError\u001B[0m                                 Traceback (most recent call last)",
      "Cell \u001B[1;32mIn[1], line 8\u001B[0m\n\u001B[0;32m      5\u001B[0m         row \u001B[38;5;241m=\u001B[39m row \u001B[38;5;241m+\u001B[39m [\u001B[38;5;124m'\u001B[39m\u001B[38;5;124m[PAD]\u001B[39m\u001B[38;5;124m'\u001B[39m] \u001B[38;5;241m*\u001B[39m (\u001B[38;5;241m300\u001B[39m \u001B[38;5;241m-\u001B[39m \u001B[38;5;28mlen\u001B[39m(row))\n\u001B[0;32m      6\u001B[0m     \u001B[38;5;28;01mreturn\u001B[39;00m row\n\u001B[1;32m----> 8\u001B[0m df_[\u001B[38;5;124m'\u001B[39m\u001B[38;5;124mtext_tokenized\u001B[39m\u001B[38;5;124m'\u001B[39m] \u001B[38;5;241m=\u001B[39m \u001B[43mdf_\u001B[49m[\u001B[38;5;124m'\u001B[39m\u001B[38;5;124mtext_tokenized\u001B[39m\u001B[38;5;124m'\u001B[39m]\u001B[38;5;241m.\u001B[39mapply(\u001B[38;5;28;01mlambda\u001B[39;00m x: padding(x))\n",
      "\u001B[1;31mNameError\u001B[0m: name 'df_' is not defined"
     ]
    }
   ],
   "source": [
    "def padding(row):\n",
    "    if len(row) == 300:\n",
    "        pass\n",
    "    else:\n",
    "        row = row + ['[PAD]'] * (300 - len(row))\n",
    "    return row\n",
    "\n",
    "df_['text_tokenized'] = df_['text_tokenized'].apply(lambda x: padding(x))\n"
   ]
  },
  {
   "cell_type": "markdown",
   "id": "e526b9d6adeca228",
   "metadata": {
    "collapsed": false
   },
   "source": [
    "# Attention masks"
   ]
  },
  {
   "cell_type": "code",
   "execution_count": 10,
   "id": "ee2cf9d62e9bac4f",
   "metadata": {
    "ExecuteTime": {
     "end_time": "2024-03-19T10:35:39.287316300Z",
     "start_time": "2024-03-19T10:35:22.486445600Z"
    },
    "collapsed": false
   },
   "outputs": [],
   "source": [
    "def attention_mask(row):\n",
    "    mask = [1 if token != '[PAD]' else 0 for token in row]\n",
    "    return mask\n",
    "\n",
    "df_['attention_mask'] = df_['text_tokenized'].apply(lambda x: attention_mask(x))"
   ]
  },
  {
   "cell_type": "markdown",
   "id": "5c675a6859f3c834",
   "metadata": {
    "collapsed": false
   },
   "source": [
    "# Unique token ID"
   ]
  },
  {
   "cell_type": "code",
   "execution_count": 11,
   "id": "a41574e0b2b537a2",
   "metadata": {
    "ExecuteTime": {
     "end_time": "2024-03-19T10:36:39.213174800Z",
     "start_time": "2024-03-19T10:35:39.292459100Z"
    },
    "collapsed": false
   },
   "outputs": [],
   "source": [
    "df_['token_ids'] = df_['text_tokenized'].apply(lambda x : tokenizer.convert_tokens_to_ids(x))"
   ]
  },
  {
   "cell_type": "code",
   "execution_count": 12,
   "id": "6ec1091f0935a728",
   "metadata": {
    "ExecuteTime": {
     "end_time": "2024-03-19T10:38:03.642985400Z",
     "start_time": "2024-03-19T10:36:39.216918300Z"
    },
    "collapsed": false
   },
   "outputs": [],
   "source": [
    "import torch\n",
    "df_['token_ids_unsqueeze'] = df_['token_ids'].apply(lambda x : torch.tensor(x).unsqueeze(0))"
   ]
  },
  {
   "cell_type": "code",
   "execution_count": 13,
   "id": "e0afb4272afe59de",
   "metadata": {
    "ExecuteTime": {
     "end_time": "2024-03-19T10:38:55.913359100Z",
     "start_time": "2024-03-19T10:38:03.655350800Z"
    },
    "collapsed": false
   },
   "outputs": [],
   "source": [
    "df_['attention_mask_unsqueeze'] = df_['attention_mask'].apply(lambda x : torch.tensor(x).unsqueeze(0))"
   ]
  },
  {
   "cell_type": "code",
   "execution_count": 14,
   "id": "a65462d2d6381dc",
   "metadata": {
    "ExecuteTime": {
     "end_time": "2024-03-19T10:38:56.347410900Z",
     "start_time": "2024-03-19T10:38:55.938029300Z"
    },
    "collapsed": false
   },
   "outputs": [
    {
     "data": {
      "text/html": [
       "<div>\n",
       "<style scoped>\n",
       "    .dataframe tbody tr th:only-of-type {\n",
       "        vertical-align: middle;\n",
       "    }\n",
       "\n",
       "    .dataframe tbody tr th {\n",
       "        vertical-align: top;\n",
       "    }\n",
       "\n",
       "    .dataframe thead th {\n",
       "        text-align: right;\n",
       "    }\n",
       "</style>\n",
       "<table border=\"1\" class=\"dataframe\">\n",
       "  <thead>\n",
       "    <tr style=\"text-align: right;\">\n",
       "      <th></th>\n",
       "      <th>Unnamed: 0</th>\n",
       "      <th>rating</th>\n",
       "      <th>title_x</th>\n",
       "      <th>text</th>\n",
       "      <th>parent_asin</th>\n",
       "      <th>title_y</th>\n",
       "      <th>main_category</th>\n",
       "      <th>text_tokenized</th>\n",
       "      <th>store</th>\n",
       "      <th>details</th>\n",
       "      <th>timestamp</th>\n",
       "      <th>attention_mask</th>\n",
       "      <th>token_ids</th>\n",
       "      <th>token_ids_unsqueeze</th>\n",
       "      <th>attention_mask_unsqueeze</th>\n",
       "    </tr>\n",
       "  </thead>\n",
       "  <tbody>\n",
       "    <tr>\n",
       "      <th>0</th>\n",
       "      <td>0</td>\n",
       "      <td>4.0</td>\n",
       "      <td>It’s pretty sexual. Not my fav</td>\n",
       "      <td>I’m playing on ps5 and it’s interesting.  It’s...</td>\n",
       "      <td>B07DK1H3H5</td>\n",
       "      <td>Cyberpunk 2077 - PC [Game Download Code in Box]</td>\n",
       "      <td>Video Games</td>\n",
       "      <td>[[CLS], i, ’, m, playing, on, ps, ##5, and, it...</td>\n",
       "      <td>WARNER BROS</td>\n",
       "      <td>{'Release date': 'December 10, 2020', 'Best Se...</td>\n",
       "      <td>2020-12-17 07:33:24.795</td>\n",
       "      <td>[1, 1, 1, 1, 1, 1, 1, 1, 1, 1, 1, 1, 1, 1, 1, ...</td>\n",
       "      <td>[101, 1045, 1521, 1049, 2652, 2006, 8827, 2629...</td>\n",
       "      <td>[[tensor(101), tensor(1045), tensor(1521), ten...</td>\n",
       "      <td>[[tensor(1), tensor(1), tensor(1), tensor(1), ...</td>\n",
       "    </tr>\n",
       "    <tr>\n",
       "      <th>1</th>\n",
       "      <td>1</td>\n",
       "      <td>5.0</td>\n",
       "      <td>Good. A bit slow</td>\n",
       "      <td>Nostalgic fun.  A bit slow.  I hope they don’t...</td>\n",
       "      <td>B07SRWRH5D</td>\n",
       "      <td>Final Fantasy VII: Remake - PlayStation 4</td>\n",
       "      <td>Video Games</td>\n",
       "      <td>[[CLS], nos, ##tal, ##gic, fun, ., a, bit, slo...</td>\n",
       "      <td>Square Enix</td>\n",
       "      <td>{'Release date': 'April 10, 2020', 'Best Selle...</td>\n",
       "      <td>2020-04-16 17:31:54.941</td>\n",
       "      <td>[1, 1, 1, 1, 1, 1, 1, 1, 1, 1, 1, 1, 1, 1, 1, ...</td>\n",
       "      <td>[101, 16839, 9080, 12863, 4569, 1012, 1037, 29...</td>\n",
       "      <td>[[tensor(101), tensor(16839), tensor(9080), te...</td>\n",
       "      <td>[[tensor(1), tensor(1), tensor(1), tensor(1), ...</td>\n",
       "    </tr>\n",
       "    <tr>\n",
       "      <th>2</th>\n",
       "      <td>2</td>\n",
       "      <td>5.0</td>\n",
       "      <td>Will use again</td>\n",
       "      <td>Instant delivery!</td>\n",
       "      <td>B004RMK57U</td>\n",
       "      <td>Playstation Plus: 3 Month Membership [Digital ...</td>\n",
       "      <td>Video Games</td>\n",
       "      <td>[[CLS], instant, delivery, !, [SEP], [PAD], [P...</td>\n",
       "      <td>PlayStation</td>\n",
       "      <td>{'Release date': 'March 22, 2011', 'Pricing': ...</td>\n",
       "      <td>2020-10-17 14:28:29.361</td>\n",
       "      <td>[1, 1, 1, 1, 1, 0, 0, 0, 0, 0, 0, 0, 0, 0, 0, ...</td>\n",
       "      <td>[101, 7107, 6959, 999, 102, 0, 0, 0, 0, 0, 0, ...</td>\n",
       "      <td>[[tensor(101), tensor(7107), tensor(6959), ten...</td>\n",
       "      <td>[[tensor(1), tensor(1), tensor(1), tensor(1), ...</td>\n",
       "    </tr>\n",
       "    <tr>\n",
       "      <th>3</th>\n",
       "      <td>4</td>\n",
       "      <td>5.0</td>\n",
       "      <td>Price bumps it up from 4 stars</td>\n",
       "      <td>*it fits TWO wired Retro-bit 6 button controll...</td>\n",
       "      <td>B08L6782X9</td>\n",
       "      <td>Aenllosi Hard Carrying Case Compatible with Se...</td>\n",
       "      <td>Video Games</td>\n",
       "      <td>[[CLS], *, it, fits, two, wired, retro, -, bit...</td>\n",
       "      <td>Aenllosi</td>\n",
       "      <td>{'Pricing': 'The strikethrough price is the Li...</td>\n",
       "      <td>2021-05-19 20:24:30.253</td>\n",
       "      <td>[1, 1, 1, 1, 1, 1, 1, 1, 1, 1, 1, 1, 1, 1, 1, ...</td>\n",
       "      <td>[101, 1008, 2009, 16142, 2048, 17502, 22307, 1...</td>\n",
       "      <td>[[tensor(101), tensor(1008), tensor(2009), ten...</td>\n",
       "      <td>[[tensor(1), tensor(1), tensor(1), tensor(1), ...</td>\n",
       "    </tr>\n",
       "    <tr>\n",
       "      <th>4</th>\n",
       "      <td>5</td>\n",
       "      <td>1.0</td>\n",
       "      <td>It's an Auto-renew scam</td>\n",
       "      <td>Sony and Amazon are collaborating in an Auto-r...</td>\n",
       "      <td>B017V6YVDC</td>\n",
       "      <td>PlayStation Plus: 1 Month Membership [Digital ...</td>\n",
       "      <td>Video Games</td>\n",
       "      <td>[[CLS], sony, and, amazon, are, collaborating,...</td>\n",
       "      <td>PlayStation</td>\n",
       "      <td>{'Release date': 'November 11, 2015', 'Pricing...</td>\n",
       "      <td>2020-12-12 01:54:34.794</td>\n",
       "      <td>[1, 1, 1, 1, 1, 1, 1, 1, 1, 1, 1, 1, 1, 1, 1, ...</td>\n",
       "      <td>[101, 8412, 1998, 9733, 2024, 20295, 1999, 201...</td>\n",
       "      <td>[[tensor(101), tensor(8412), tensor(1998), ten...</td>\n",
       "      <td>[[tensor(1), tensor(1), tensor(1), tensor(1), ...</td>\n",
       "    </tr>\n",
       "  </tbody>\n",
       "</table>\n",
       "</div>"
      ],
      "text/plain": [
       "   Unnamed: 0  rating                         title_x  \\\n",
       "0           0     4.0  It’s pretty sexual. Not my fav   \n",
       "1           1     5.0                Good. A bit slow   \n",
       "2           2     5.0                  Will use again   \n",
       "3           4     5.0  Price bumps it up from 4 stars   \n",
       "4           5     1.0         It's an Auto-renew scam   \n",
       "\n",
       "                                                text parent_asin  \\\n",
       "0  I’m playing on ps5 and it’s interesting.  It’s...  B07DK1H3H5   \n",
       "1  Nostalgic fun.  A bit slow.  I hope they don’t...  B07SRWRH5D   \n",
       "2                                  Instant delivery!  B004RMK57U   \n",
       "3  *it fits TWO wired Retro-bit 6 button controll...  B08L6782X9   \n",
       "4  Sony and Amazon are collaborating in an Auto-r...  B017V6YVDC   \n",
       "\n",
       "                                             title_y main_category  \\\n",
       "0    Cyberpunk 2077 - PC [Game Download Code in Box]   Video Games   \n",
       "1          Final Fantasy VII: Remake - PlayStation 4   Video Games   \n",
       "2  Playstation Plus: 3 Month Membership [Digital ...   Video Games   \n",
       "3  Aenllosi Hard Carrying Case Compatible with Se...   Video Games   \n",
       "4  PlayStation Plus: 1 Month Membership [Digital ...   Video Games   \n",
       "\n",
       "                                      text_tokenized        store  \\\n",
       "0  [[CLS], i, ’, m, playing, on, ps, ##5, and, it...  WARNER BROS   \n",
       "1  [[CLS], nos, ##tal, ##gic, fun, ., a, bit, slo...  Square Enix   \n",
       "2  [[CLS], instant, delivery, !, [SEP], [PAD], [P...  PlayStation   \n",
       "3  [[CLS], *, it, fits, two, wired, retro, -, bit...     Aenllosi   \n",
       "4  [[CLS], sony, and, amazon, are, collaborating,...  PlayStation   \n",
       "\n",
       "                                             details                timestamp  \\\n",
       "0  {'Release date': 'December 10, 2020', 'Best Se...  2020-12-17 07:33:24.795   \n",
       "1  {'Release date': 'April 10, 2020', 'Best Selle...  2020-04-16 17:31:54.941   \n",
       "2  {'Release date': 'March 22, 2011', 'Pricing': ...  2020-10-17 14:28:29.361   \n",
       "3  {'Pricing': 'The strikethrough price is the Li...  2021-05-19 20:24:30.253   \n",
       "4  {'Release date': 'November 11, 2015', 'Pricing...  2020-12-12 01:54:34.794   \n",
       "\n",
       "                                      attention_mask  \\\n",
       "0  [1, 1, 1, 1, 1, 1, 1, 1, 1, 1, 1, 1, 1, 1, 1, ...   \n",
       "1  [1, 1, 1, 1, 1, 1, 1, 1, 1, 1, 1, 1, 1, 1, 1, ...   \n",
       "2  [1, 1, 1, 1, 1, 0, 0, 0, 0, 0, 0, 0, 0, 0, 0, ...   \n",
       "3  [1, 1, 1, 1, 1, 1, 1, 1, 1, 1, 1, 1, 1, 1, 1, ...   \n",
       "4  [1, 1, 1, 1, 1, 1, 1, 1, 1, 1, 1, 1, 1, 1, 1, ...   \n",
       "\n",
       "                                           token_ids  \\\n",
       "0  [101, 1045, 1521, 1049, 2652, 2006, 8827, 2629...   \n",
       "1  [101, 16839, 9080, 12863, 4569, 1012, 1037, 29...   \n",
       "2  [101, 7107, 6959, 999, 102, 0, 0, 0, 0, 0, 0, ...   \n",
       "3  [101, 1008, 2009, 16142, 2048, 17502, 22307, 1...   \n",
       "4  [101, 8412, 1998, 9733, 2024, 20295, 1999, 201...   \n",
       "\n",
       "                                 token_ids_unsqueeze  \\\n",
       "0  [[tensor(101), tensor(1045), tensor(1521), ten...   \n",
       "1  [[tensor(101), tensor(16839), tensor(9080), te...   \n",
       "2  [[tensor(101), tensor(7107), tensor(6959), ten...   \n",
       "3  [[tensor(101), tensor(1008), tensor(2009), ten...   \n",
       "4  [[tensor(101), tensor(8412), tensor(1998), ten...   \n",
       "\n",
       "                            attention_mask_unsqueeze  \n",
       "0  [[tensor(1), tensor(1), tensor(1), tensor(1), ...  \n",
       "1  [[tensor(1), tensor(1), tensor(1), tensor(1), ...  \n",
       "2  [[tensor(1), tensor(1), tensor(1), tensor(1), ...  \n",
       "3  [[tensor(1), tensor(1), tensor(1), tensor(1), ...  \n",
       "4  [[tensor(1), tensor(1), tensor(1), tensor(1), ...  "
      ]
     },
     "execution_count": 14,
     "metadata": {},
     "output_type": "execute_result"
    }
   ],
   "source": [
    "df_.head()"
   ]
  },
  {
   "cell_type": "markdown",
   "id": "138754fa94909ca2",
   "metadata": {
    "collapsed": false
   },
   "source": [
    "# Getting the embedding"
   ]
  },
  {
   "cell_type": "code",
   "execution_count": 17,
   "id": "e874dd183ab9277c",
   "metadata": {
    "ExecuteTime": {
     "end_time": "2024-03-19T10:51:03.733281400Z",
     "start_time": "2024-03-19T10:51:02.025429800Z"
    },
    "collapsed": false
   },
   "outputs": [
    {
     "name": "stderr",
     "output_type": "stream",
     "text": [
      "Some weights of BertForSequenceClassification were not initialized from the model checkpoint at bert-base-uncased and are newly initialized: ['classifier.bias', 'classifier.weight']\n",
      "You should probably TRAIN this model on a down-stream task to be able to use it for predictions and inference.\n"
     ]
    }
   ],
   "source": [
    "df_test = df_.iloc[:10,:].copy()\n",
    "from transformers import BertForSequenceClassification\n",
    "\n",
    "model = BertForSequenceClassification.from_pretrained('bert-base-uncased', num_labels=2)  # 2 labels pour sentiment positif/négatif"
   ]
  },
  {
   "cell_type": "code",
   "execution_count": 16,
   "id": "36c935785dd62f17",
   "metadata": {
    "ExecuteTime": {
     "end_time": "2024-03-19T10:50:58.301164800Z",
     "start_time": "2024-03-19T10:50:32.252339200Z"
    },
    "collapsed": false
   },
   "outputs": [],
   "source": [
    "token_ids_tensor = torch.stack(df_['token_ids_unsqueeze'].tolist())\n",
    "attention_mask_tensor = torch.stack(df_['attention_mask_unsqueeze'].tolist())\n"
   ]
  },
  {
   "cell_type": "code",
   "execution_count": 26,
   "id": "2cc962d5219a0070",
   "metadata": {
    "ExecuteTime": {
     "end_time": "2024-03-19T13:08:22.950262Z",
     "start_time": "2024-03-19T13:08:22.914834600Z"
    },
    "collapsed": false
   },
   "outputs": [
    {
     "data": {
      "text/plain": [
       "torch.Size([611317, 1, 300])"
      ]
     },
     "execution_count": 26,
     "metadata": {},
     "output_type": "execute_result"
    }
   ],
   "source": [
    "token_ids_tensor.shape"
   ]
  },
  {
   "cell_type": "code",
   "execution_count": 26,
   "id": "d8a74d0b4e675f5b",
   "metadata": {
    "ExecuteTime": {
     "end_time": "2024-03-19T13:10:17.189525200Z",
     "start_time": "2024-03-19T13:10:17.169549700Z"
    },
    "collapsed": false
   },
   "outputs": [],
   "source": []
  },
  {
   "cell_type": "code",
   "execution_count": 23,
   "id": "75c892530d55c8a5",
   "metadata": {
    "ExecuteTime": {
     "end_time": "2024-03-19T11:06:49.665211400Z",
     "start_time": "2024-03-19T11:06:49.488619700Z"
    },
    "collapsed": false
   },
   "outputs": [
    {
     "ename": "ValueError",
     "evalue": "too many values to unpack (expected 2)",
     "output_type": "error",
     "traceback": [
      "\u001B[1;31m---------------------------------------------------------------------------\u001B[0m",
      "\u001B[1;31mValueError\u001B[0m                                Traceback (most recent call last)",
      "Cell \u001B[1;32mIn[23], line 6\u001B[0m\n\u001B[0;32m      4\u001B[0m \u001B[38;5;66;03m# Passez les données à travers le modèle\u001B[39;00m\n\u001B[0;32m      5\u001B[0m \u001B[38;5;28;01mwith\u001B[39;00m torch\u001B[38;5;241m.\u001B[39mno_grad():\n\u001B[1;32m----> 6\u001B[0m     outputs \u001B[38;5;241m=\u001B[39m \u001B[43mmodel\u001B[49m\u001B[43m(\u001B[49m\u001B[43minput_ids\u001B[49m\u001B[38;5;241;43m=\u001B[39;49m\u001B[43mtoken_ids_tensor\u001B[49m\u001B[43m,\u001B[49m\u001B[43m \u001B[49m\u001B[43mattention_mask\u001B[49m\u001B[38;5;241;43m=\u001B[39;49m\u001B[43mattention_mask_tensor\u001B[49m\u001B[43m)\u001B[49m\n\u001B[0;32m      8\u001B[0m \u001B[38;5;66;03m# Obtenez les prédictions\u001B[39;00m\n\u001B[0;32m      9\u001B[0m predictions \u001B[38;5;241m=\u001B[39m torch\u001B[38;5;241m.\u001B[39margmax(outputs\u001B[38;5;241m.\u001B[39mlogits, dim\u001B[38;5;241m=\u001B[39m\u001B[38;5;241m2\u001B[39m)\n",
      "File \u001B[1;32m~\\Documents\\M2 MoSEF\\NLP projet\\venv\\lib\\site-packages\\torch\\nn\\modules\\module.py:1511\u001B[0m, in \u001B[0;36mModule._wrapped_call_impl\u001B[1;34m(self, *args, **kwargs)\u001B[0m\n\u001B[0;32m   1509\u001B[0m     \u001B[38;5;28;01mreturn\u001B[39;00m \u001B[38;5;28mself\u001B[39m\u001B[38;5;241m.\u001B[39m_compiled_call_impl(\u001B[38;5;241m*\u001B[39margs, \u001B[38;5;241m*\u001B[39m\u001B[38;5;241m*\u001B[39mkwargs)  \u001B[38;5;66;03m# type: ignore[misc]\u001B[39;00m\n\u001B[0;32m   1510\u001B[0m \u001B[38;5;28;01melse\u001B[39;00m:\n\u001B[1;32m-> 1511\u001B[0m     \u001B[38;5;28;01mreturn\u001B[39;00m \u001B[38;5;28mself\u001B[39m\u001B[38;5;241m.\u001B[39m_call_impl(\u001B[38;5;241m*\u001B[39margs, \u001B[38;5;241m*\u001B[39m\u001B[38;5;241m*\u001B[39mkwargs)\n",
      "File \u001B[1;32m~\\Documents\\M2 MoSEF\\NLP projet\\venv\\lib\\site-packages\\torch\\nn\\modules\\module.py:1520\u001B[0m, in \u001B[0;36mModule._call_impl\u001B[1;34m(self, *args, **kwargs)\u001B[0m\n\u001B[0;32m   1515\u001B[0m \u001B[38;5;66;03m# If we don't have any hooks, we want to skip the rest of the logic in\u001B[39;00m\n\u001B[0;32m   1516\u001B[0m \u001B[38;5;66;03m# this function, and just call forward.\u001B[39;00m\n\u001B[0;32m   1517\u001B[0m \u001B[38;5;28;01mif\u001B[39;00m \u001B[38;5;129;01mnot\u001B[39;00m (\u001B[38;5;28mself\u001B[39m\u001B[38;5;241m.\u001B[39m_backward_hooks \u001B[38;5;129;01mor\u001B[39;00m \u001B[38;5;28mself\u001B[39m\u001B[38;5;241m.\u001B[39m_backward_pre_hooks \u001B[38;5;129;01mor\u001B[39;00m \u001B[38;5;28mself\u001B[39m\u001B[38;5;241m.\u001B[39m_forward_hooks \u001B[38;5;129;01mor\u001B[39;00m \u001B[38;5;28mself\u001B[39m\u001B[38;5;241m.\u001B[39m_forward_pre_hooks\n\u001B[0;32m   1518\u001B[0m         \u001B[38;5;129;01mor\u001B[39;00m _global_backward_pre_hooks \u001B[38;5;129;01mor\u001B[39;00m _global_backward_hooks\n\u001B[0;32m   1519\u001B[0m         \u001B[38;5;129;01mor\u001B[39;00m _global_forward_hooks \u001B[38;5;129;01mor\u001B[39;00m _global_forward_pre_hooks):\n\u001B[1;32m-> 1520\u001B[0m     \u001B[38;5;28;01mreturn\u001B[39;00m forward_call(\u001B[38;5;241m*\u001B[39margs, \u001B[38;5;241m*\u001B[39m\u001B[38;5;241m*\u001B[39mkwargs)\n\u001B[0;32m   1522\u001B[0m \u001B[38;5;28;01mtry\u001B[39;00m:\n\u001B[0;32m   1523\u001B[0m     result \u001B[38;5;241m=\u001B[39m \u001B[38;5;28;01mNone\u001B[39;00m\n",
      "File \u001B[1;32m~\\Documents\\M2 MoSEF\\NLP projet\\venv\\lib\\site-packages\\transformers\\models\\bert\\modeling_bert.py:1564\u001B[0m, in \u001B[0;36mBertForSequenceClassification.forward\u001B[1;34m(self, input_ids, attention_mask, token_type_ids, position_ids, head_mask, inputs_embeds, labels, output_attentions, output_hidden_states, return_dict)\u001B[0m\n\u001B[0;32m   1556\u001B[0m \u001B[38;5;250m\u001B[39m\u001B[38;5;124mr\u001B[39m\u001B[38;5;124;03m\"\"\"\u001B[39;00m\n\u001B[0;32m   1557\u001B[0m \u001B[38;5;124;03mlabels (`torch.LongTensor` of shape `(batch_size,)`, *optional*):\u001B[39;00m\n\u001B[0;32m   1558\u001B[0m \u001B[38;5;124;03m    Labels for computing the sequence classification/regression loss. Indices should be in `[0, ...,\u001B[39;00m\n\u001B[0;32m   1559\u001B[0m \u001B[38;5;124;03m    config.num_labels - 1]`. If `config.num_labels == 1` a regression loss is computed (Mean-Square loss), If\u001B[39;00m\n\u001B[0;32m   1560\u001B[0m \u001B[38;5;124;03m    `config.num_labels > 1` a classification loss is computed (Cross-Entropy).\u001B[39;00m\n\u001B[0;32m   1561\u001B[0m \u001B[38;5;124;03m\"\"\"\u001B[39;00m\n\u001B[0;32m   1562\u001B[0m return_dict \u001B[38;5;241m=\u001B[39m return_dict \u001B[38;5;28;01mif\u001B[39;00m return_dict \u001B[38;5;129;01mis\u001B[39;00m \u001B[38;5;129;01mnot\u001B[39;00m \u001B[38;5;28;01mNone\u001B[39;00m \u001B[38;5;28;01melse\u001B[39;00m \u001B[38;5;28mself\u001B[39m\u001B[38;5;241m.\u001B[39mconfig\u001B[38;5;241m.\u001B[39muse_return_dict\n\u001B[1;32m-> 1564\u001B[0m outputs \u001B[38;5;241m=\u001B[39m \u001B[38;5;28;43mself\u001B[39;49m\u001B[38;5;241;43m.\u001B[39;49m\u001B[43mbert\u001B[49m\u001B[43m(\u001B[49m\n\u001B[0;32m   1565\u001B[0m \u001B[43m    \u001B[49m\u001B[43minput_ids\u001B[49m\u001B[43m,\u001B[49m\n\u001B[0;32m   1566\u001B[0m \u001B[43m    \u001B[49m\u001B[43mattention_mask\u001B[49m\u001B[38;5;241;43m=\u001B[39;49m\u001B[43mattention_mask\u001B[49m\u001B[43m,\u001B[49m\n\u001B[0;32m   1567\u001B[0m \u001B[43m    \u001B[49m\u001B[43mtoken_type_ids\u001B[49m\u001B[38;5;241;43m=\u001B[39;49m\u001B[43mtoken_type_ids\u001B[49m\u001B[43m,\u001B[49m\n\u001B[0;32m   1568\u001B[0m \u001B[43m    \u001B[49m\u001B[43mposition_ids\u001B[49m\u001B[38;5;241;43m=\u001B[39;49m\u001B[43mposition_ids\u001B[49m\u001B[43m,\u001B[49m\n\u001B[0;32m   1569\u001B[0m \u001B[43m    \u001B[49m\u001B[43mhead_mask\u001B[49m\u001B[38;5;241;43m=\u001B[39;49m\u001B[43mhead_mask\u001B[49m\u001B[43m,\u001B[49m\n\u001B[0;32m   1570\u001B[0m \u001B[43m    \u001B[49m\u001B[43minputs_embeds\u001B[49m\u001B[38;5;241;43m=\u001B[39;49m\u001B[43minputs_embeds\u001B[49m\u001B[43m,\u001B[49m\n\u001B[0;32m   1571\u001B[0m \u001B[43m    \u001B[49m\u001B[43moutput_attentions\u001B[49m\u001B[38;5;241;43m=\u001B[39;49m\u001B[43moutput_attentions\u001B[49m\u001B[43m,\u001B[49m\n\u001B[0;32m   1572\u001B[0m \u001B[43m    \u001B[49m\u001B[43moutput_hidden_states\u001B[49m\u001B[38;5;241;43m=\u001B[39;49m\u001B[43moutput_hidden_states\u001B[49m\u001B[43m,\u001B[49m\n\u001B[0;32m   1573\u001B[0m \u001B[43m    \u001B[49m\u001B[43mreturn_dict\u001B[49m\u001B[38;5;241;43m=\u001B[39;49m\u001B[43mreturn_dict\u001B[49m\u001B[43m,\u001B[49m\n\u001B[0;32m   1574\u001B[0m \u001B[43m\u001B[49m\u001B[43m)\u001B[49m\n\u001B[0;32m   1576\u001B[0m pooled_output \u001B[38;5;241m=\u001B[39m outputs[\u001B[38;5;241m1\u001B[39m]\n\u001B[0;32m   1578\u001B[0m pooled_output \u001B[38;5;241m=\u001B[39m \u001B[38;5;28mself\u001B[39m\u001B[38;5;241m.\u001B[39mdropout(pooled_output)\n",
      "File \u001B[1;32m~\\Documents\\M2 MoSEF\\NLP projet\\venv\\lib\\site-packages\\torch\\nn\\modules\\module.py:1511\u001B[0m, in \u001B[0;36mModule._wrapped_call_impl\u001B[1;34m(self, *args, **kwargs)\u001B[0m\n\u001B[0;32m   1509\u001B[0m     \u001B[38;5;28;01mreturn\u001B[39;00m \u001B[38;5;28mself\u001B[39m\u001B[38;5;241m.\u001B[39m_compiled_call_impl(\u001B[38;5;241m*\u001B[39margs, \u001B[38;5;241m*\u001B[39m\u001B[38;5;241m*\u001B[39mkwargs)  \u001B[38;5;66;03m# type: ignore[misc]\u001B[39;00m\n\u001B[0;32m   1510\u001B[0m \u001B[38;5;28;01melse\u001B[39;00m:\n\u001B[1;32m-> 1511\u001B[0m     \u001B[38;5;28;01mreturn\u001B[39;00m \u001B[38;5;28mself\u001B[39m\u001B[38;5;241m.\u001B[39m_call_impl(\u001B[38;5;241m*\u001B[39margs, \u001B[38;5;241m*\u001B[39m\u001B[38;5;241m*\u001B[39mkwargs)\n",
      "File \u001B[1;32m~\\Documents\\M2 MoSEF\\NLP projet\\venv\\lib\\site-packages\\torch\\nn\\modules\\module.py:1520\u001B[0m, in \u001B[0;36mModule._call_impl\u001B[1;34m(self, *args, **kwargs)\u001B[0m\n\u001B[0;32m   1515\u001B[0m \u001B[38;5;66;03m# If we don't have any hooks, we want to skip the rest of the logic in\u001B[39;00m\n\u001B[0;32m   1516\u001B[0m \u001B[38;5;66;03m# this function, and just call forward.\u001B[39;00m\n\u001B[0;32m   1517\u001B[0m \u001B[38;5;28;01mif\u001B[39;00m \u001B[38;5;129;01mnot\u001B[39;00m (\u001B[38;5;28mself\u001B[39m\u001B[38;5;241m.\u001B[39m_backward_hooks \u001B[38;5;129;01mor\u001B[39;00m \u001B[38;5;28mself\u001B[39m\u001B[38;5;241m.\u001B[39m_backward_pre_hooks \u001B[38;5;129;01mor\u001B[39;00m \u001B[38;5;28mself\u001B[39m\u001B[38;5;241m.\u001B[39m_forward_hooks \u001B[38;5;129;01mor\u001B[39;00m \u001B[38;5;28mself\u001B[39m\u001B[38;5;241m.\u001B[39m_forward_pre_hooks\n\u001B[0;32m   1518\u001B[0m         \u001B[38;5;129;01mor\u001B[39;00m _global_backward_pre_hooks \u001B[38;5;129;01mor\u001B[39;00m _global_backward_hooks\n\u001B[0;32m   1519\u001B[0m         \u001B[38;5;129;01mor\u001B[39;00m _global_forward_hooks \u001B[38;5;129;01mor\u001B[39;00m _global_forward_pre_hooks):\n\u001B[1;32m-> 1520\u001B[0m     \u001B[38;5;28;01mreturn\u001B[39;00m forward_call(\u001B[38;5;241m*\u001B[39margs, \u001B[38;5;241m*\u001B[39m\u001B[38;5;241m*\u001B[39mkwargs)\n\u001B[0;32m   1522\u001B[0m \u001B[38;5;28;01mtry\u001B[39;00m:\n\u001B[0;32m   1523\u001B[0m     result \u001B[38;5;241m=\u001B[39m \u001B[38;5;28;01mNone\u001B[39;00m\n",
      "File \u001B[1;32m~\\Documents\\M2 MoSEF\\NLP projet\\venv\\lib\\site-packages\\transformers\\models\\bert\\modeling_bert.py:967\u001B[0m, in \u001B[0;36mBertModel.forward\u001B[1;34m(self, input_ids, attention_mask, token_type_ids, position_ids, head_mask, inputs_embeds, encoder_hidden_states, encoder_attention_mask, past_key_values, use_cache, output_attentions, output_hidden_states, return_dict)\u001B[0m\n\u001B[0;32m    964\u001B[0m \u001B[38;5;28;01melse\u001B[39;00m:\n\u001B[0;32m    965\u001B[0m     \u001B[38;5;28;01mraise\u001B[39;00m \u001B[38;5;167;01mValueError\u001B[39;00m(\u001B[38;5;124m\"\u001B[39m\u001B[38;5;124mYou have to specify either input_ids or inputs_embeds\u001B[39m\u001B[38;5;124m\"\u001B[39m)\n\u001B[1;32m--> 967\u001B[0m batch_size, seq_length \u001B[38;5;241m=\u001B[39m input_shape\n\u001B[0;32m    968\u001B[0m device \u001B[38;5;241m=\u001B[39m input_ids\u001B[38;5;241m.\u001B[39mdevice \u001B[38;5;28;01mif\u001B[39;00m input_ids \u001B[38;5;129;01mis\u001B[39;00m \u001B[38;5;129;01mnot\u001B[39;00m \u001B[38;5;28;01mNone\u001B[39;00m \u001B[38;5;28;01melse\u001B[39;00m inputs_embeds\u001B[38;5;241m.\u001B[39mdevice\n\u001B[0;32m    970\u001B[0m \u001B[38;5;66;03m# past_key_values_length\u001B[39;00m\n",
      "\u001B[1;31mValueError\u001B[0m: too many values to unpack (expected 2)"
     ]
    }
   ],
   "source": [
    "# Mettez le modèle en mode évaluation\n",
    "model.eval()\n",
    "\n",
    "# Passez les données à travers le modèle\n",
    "with torch.no_grad():\n",
    "    outputs = model(input_ids=token_ids_tensor, attention_mask=attention_mask_tensor)\n",
    "\n",
    "# Obtenez les prédictions\n",
    "predictions = torch.argmax(outputs.logits, dim=1)\n"
   ]
  },
  {
   "cell_type": "code",
   "execution_count": null,
   "id": "30ad60aebc6b36c0",
   "metadata": {
    "collapsed": false
   },
   "outputs": [],
   "source": [
    "df_.to_csv('./data/df_embedding.csv')"
   ]
  }
 ],
 "metadata": {
  "kernelspec": {
   "display_name": "Python 3",
   "language": "python",
   "name": "python3"
  },
  "language_info": {
   "codemirror_mode": {
    "name": "ipython",
    "version": 2
   },
   "file_extension": ".py",
   "mimetype": "text/x-python",
   "name": "python",
   "nbconvert_exporter": "python",
   "pygments_lexer": "ipython2",
   "version": "2.7.6"
  }
 },
 "nbformat": 4,
 "nbformat_minor": 5
}
