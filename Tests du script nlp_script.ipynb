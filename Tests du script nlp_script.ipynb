{
 "cells": [
  {
   "cell_type": "code",
   "execution_count": 1,
   "id": "initial_id",
   "metadata": {
    "collapsed": true,
    "ExecuteTime": {
     "end_time": "2024-03-23T14:21:40.238648500Z",
     "start_time": "2024-03-23T14:21:31.730275800Z"
    }
   },
   "outputs": [
    {
     "name": "stderr",
     "output_type": "stream",
     "text": [
      "[nltk_data] Downloading package punkt to\n",
      "[nltk_data]     C:\\Users\\baheu\\AppData\\Roaming\\nltk_data...\n",
      "[nltk_data]   Package punkt is already up-to-date!\n",
      "[nltk_data] Downloading package stopwords to\n",
      "[nltk_data]     C:\\Users\\baheu\\AppData\\Roaming\\nltk_data...\n",
      "[nltk_data]   Package stopwords is already up-to-date!\n",
      "[nltk_data] Downloading package vader_lexicon to\n",
      "[nltk_data]     C:\\Users\\baheu\\AppData\\Roaming\\nltk_data...\n",
      "[nltk_data]   Package vader_lexicon is already up-to-date!\n"
     ]
    }
   ],
   "source": [
    "from nlp_script import *"
   ]
  },
  {
   "cell_type": "code",
   "execution_count": 2,
   "outputs": [
    {
     "name": "stdout",
     "output_type": "stream",
     "text": [
      "Performance : 86.2% de bonnes predictions\n"
     ]
    }
   ],
   "source": [
    "instance = Recommandation()\n",
    "instance.import_data()\n",
    "instance.datapreprocess()\n",
    "instance.supp_stopwords()\n",
    "instance.apply_sentiment()\n",
    "instance.conversion_en_int()\n",
    "instance.recup_mots_positifs_negatifs()"
   ],
   "metadata": {
    "collapsed": false,
    "ExecuteTime": {
     "end_time": "2024-03-23T14:23:44.345424800Z",
     "start_time": "2024-03-23T14:21:40.242948800Z"
    }
   },
   "id": "9762cc8841c3a3f6"
  },
  {
   "cell_type": "code",
   "execution_count": 6,
   "outputs": [
    {
     "data": {
      "text/plain": "sentiment_pred  sentiment_true\n3               3                 431\n                1                  46\n                2                  23\nName: count, dtype: int64"
     },
     "execution_count": 6,
     "metadata": {},
     "output_type": "execute_result"
    }
   ],
   "source": [
    "instance.df2[['sentiment_pred','sentiment_true']].value_counts()"
   ],
   "metadata": {
    "collapsed": false,
    "ExecuteTime": {
     "end_time": "2024-03-23T14:44:27.171367200Z",
     "start_time": "2024-03-23T14:44:27.111296200Z"
    }
   },
   "id": "3f12ffa83593bbcd"
  },
  {
   "cell_type": "code",
   "execution_count": 4,
   "outputs": [
    {
     "name": "stdout",
     "output_type": "stream",
     "text": [
      "Erreur: Aucune donnée disponible pour les mots positifs.\n"
     ]
    }
   ],
   "source": [
    "instance_plot = Graphics_and_plots()\n",
    "instance_plot.word_cloud_positifs()"
   ],
   "metadata": {
    "collapsed": false,
    "ExecuteTime": {
     "end_time": "2024-03-23T14:24:51.037961600Z",
     "start_time": "2024-03-23T14:24:49.133172900Z"
    }
   },
   "id": "63a65ecd58a072be"
  },
  {
   "cell_type": "code",
   "execution_count": null,
   "outputs": [],
   "source": [
    "jeu = 'Cyberpunk'\n",
    "instance.calculate_prop_adj_jeu(jeu = jeu, cat = '', sentiment=3)"
   ],
   "metadata": {
    "collapsed": false
   },
   "id": "7da669e6ab55e8ac"
  },
  {
   "cell_type": "code",
   "execution_count": null,
   "outputs": [],
   "source": [
    "instance.df2"
   ],
   "metadata": {
    "collapsed": false
   },
   "id": "cb4684e9cbf04b98"
  },
  {
   "cell_type": "code",
   "execution_count": null,
   "outputs": [],
   "source": [],
   "metadata": {
    "collapsed": false
   },
   "id": "1ba42bb43a8ff2aa"
  }
 ],
 "metadata": {
  "kernelspec": {
   "display_name": "Python 3",
   "language": "python",
   "name": "python3"
  },
  "language_info": {
   "codemirror_mode": {
    "name": "ipython",
    "version": 2
   },
   "file_extension": ".py",
   "mimetype": "text/x-python",
   "name": "python",
   "nbconvert_exporter": "python",
   "pygments_lexer": "ipython2",
   "version": "2.7.6"
  }
 },
 "nbformat": 4,
 "nbformat_minor": 5
}
